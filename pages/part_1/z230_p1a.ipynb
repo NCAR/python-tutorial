{
 "cells": [
  {
   "cell_type": "markdown",
   "metadata": {},
   "source": [
    "# Python 0-30 for Scientists\n",
    "----------------\n",
    "\n",
    "Welcome to the Python 0 to 30 for Scientists tutorial. In this self-paced course you will learn how to write Python \n",
    "code using Python best practices. \n",
    "\n",
    "Part 1 is designed to take one work day, but you may move through the content much slower or more quickly. \n",
    "\n",
    "Through these instructions you will develop scripts and use git and GitHub to save and organize your work. \n",
    "\n",
    "At the end of this tutorial you will have a grasp of how to begin building your own library of Python tools for your \n",
    "scientific analysis workflows."
   ]
  },
  {
   "cell_type": "markdown",
   "metadata": {},
   "source": [
    "## Why Python?\n",
    "-------------------\n",
    "\n",
    "You're already here because you want to learn to use Python for your data analysis and visualizations. Python can be \n",
    "compared to other high-level, interpreted, object-oriented languages, but is especially great because it is free and \n",
    "open source! \n",
    "\n",
    "**High level languages** -\n",
    "\n",
    "    Other high level languages include MatLab, IDL, and NCL. The advantage of high level languages is that they provide functions, data structures, and other utilities that are commonly used, which means it takes less code to get real work done. The disadvantage of high level languages is that they tend to obscure the low level aspects of the machine such as: memory use, how many floating point operations are happening, and other information related to performance. C and C++ are all examples of lower level languages. The \"higher\" the level of language, the more computing fundamentals are abstracted.\n",
    "\n",
    "**Interpreted languages** -\n",
    "\n",
    "    Most of your work is probably already in interpreted languages if you've ever used IDL, NCL, or MatLab (interpreted languages are typically also high level). So you are already familiar with the advantages of this: you don't have to worry about compiling or machine compatability (it is portable). And you are probably familiar with their deficiencies: sometimes they can be slower than compiled languages and potentially more memory intensive than. \n",
    "\n",
    "**Objected Oriented languages** -\n",
    "\n",
    "    Objects are custom datatypes. For every custom datatypes, you usually have a set of operations you might want to conduct. For example, if you have an object that is a list of numbers you might want to apply a mathematical operation, such as sum, onto this list object in bulk. Not every  function can be applied to every datatype; it wouldn't make sense to apply a logarithm to a string of letters or to capitalize a list of numbers. Data and the operations applied to them are grouped together into one object. \n",
    "\n",
    "**Open source** - \n",
    "\n",
    "    Python as a language is open source which means that there is a community of developers behind its codebase. Anyone can join the developer community and contribute to deciding the future of the language. When someone identifies gaps to Python's abilities, they can write up the code to fill these gaps. The open source nature of Python means that Python as a language is very adaptable to shifting needs of the user community.\n",
    "\n",
    "Python is a language designed for rapid prototyping and efficient programming. It is easy to write new code quickly \n",
    "with less typing."
   ]
  },
  {
   "cell_type": "markdown",
   "metadata": {},
   "source": [
    "## Part 1 - First Python Script\n",
    "----------------------------\n",
    "\n",
    "This section of the Zero to Thirty tutorial will focus on teaching you Python through the creation of your first script. \n",
    "\n",
    "You will learn about syntax and the reasoning behind why things are done the way they done along the way. \n",
    "\n",
    "We will also incorporate lessons on the use of git because we highly you recommend version controling your work.\n",
    "\n",
    "We are assuming you are familiar with bash and terminal commands. If not here is a cheat sheet:\n",
    "![Linux Command Sheet](https://cheatography.com/davechild/cheat-sheets/linux-command-line/)"
   ]
  },
  {
   "cell_type": "markdown",
   "metadata": {},
   "source": [
    "## Part 1a - Reading a .txt File\n",
    "--------------------------------------\n",
    "In building your first Python script we will set up our workspace, read a .txt file, and learn git fundamentals.\n",
    "\n",
    "Open a terminal to begin."
   ]
  },
  {
   "cell_type": "markdown",
   "metadata": {},
   "source": [
    "1. [bash] Create a directory:\n",
    "\n",
    "   ```bash\n",
    "   $ mkdir ncar_python_tutorial\n",
    "   ```\n",
    "\n",
    "   The first thing we have to do is create a directory to store our work. Let's call it \"ncar_python_tutorial.\""
   ]
  },
  {
   "cell_type": "markdown",
   "metadata": {},
   "source": [
    "2. [bash] Go into the directory:\n",
    "\n",
    "   ```bash\n",
    "   $ cd ncar_python_tutorial\n",
    "   ```"
   ]
  },
  {
   "cell_type": "markdown",
   "metadata": {},
   "source": [
    "3. [conda] Create a virtual environment for this project:\n",
    "\n",
    "   ```bash\n",
    "   $ conda create --name ncar_python_tutorial python\n",
    "   ```\n",
    "\n",
    "    A **conda environment** is a directory that contains a collection of packages or libraries that you would like installed and accessible for this workflow. Type `conda create --name` , the name of your project, here that is \"ncar_python_tutorial,\" and then specify that you are using python to create a virtual environment for this project.\n",
    "\n",
    "   It is a good idea to create new environments for different projects because since Python is open source, new versions of the tools you use  may become available. This is a way of guaranteeing that your script will use the same versions of packages and libraries and should run the same as you expect it to."
   ]
  },
  {
   "cell_type": "markdown",
   "metadata": {},
   "source": [
    "4. [git] Make the directory a git repository:\n",
    "\n",
    "   ```bash\n",
    "   $ git init .\n",
    "   ```\n",
    "   \n",
    "   A **Git repository** tracks changes made to files within your project. It looks like a `.git/` folder inside that project.\n",
    "   \n",
    "   This command adds version control to this new ncar_python_tutorial directory and all of its contents."
   ]
  },
  {
   "cell_type": "markdown",
   "metadata": {},
   "source": [
    "5. [bash] Create a data directory:\n",
    "\n",
    "   ```bash\n",
    "   $ mkdir data\n",
    "   ```\n",
    "\n",
    "   And we'll make a directory for our data."
   ]
  },
  {
   "cell_type": "markdown",
   "metadata": {},
   "source": [
    "6. [bash] Go into the data directory:\n",
    "\n",
    "   ```bash\n",
    "   $ cd data\n",
    "   ```\n",
    "   Let's \"cd\" into the data directory. "
   ]
  },
  {
   "cell_type": "markdown",
   "metadata": {},
   "source": [
    "7. [bash] Download sample data:\n",
    "\n",
    "   ```bash\n",
    "   $ curl -O https://sundowner.colorado.edu/weather/atoc8/wxobs20170821.txt\n",
    "   ```\n",
    "\n",
    "   And download data from the CU Boulder weather station.\n",
    "\n",
    "   This weather station is a Davis Instruments wireless Vantage Pro2 located on the CU-Boulder east campus at the SEEC building (40.01 N, 05.24 W, 5250 ft elevation). The station is monitored by the Atmospheric and Oceanic Sciences (ATOC) department and is part of the larger University of Colorado ATOC Weather Network.\n"
   ]
  },
  {
   "cell_type": "markdown",
   "metadata": {},
   "source": [
    "8. [git] Check the status of your repository\n",
    "\n",
    "   ```bash\n",
    "   $ git status\n",
    "   ```\n",
    "\n",
    "   You will see the newly downloaded file listed as an \"untracked file.\" Git status will tell you what to do to untracked files. Those instructions mirror the next 2 steps:"
   ]
  },
  {
   "cell_type": "markdown",
   "metadata": {},
   "source": [
    "9. [git] Add the file to the *git staging area*:\n",
    "\n",
    "   ```bash\n",
    "   $ git add wxobs20170821.txt\n",
    "   ```\n",
    "   \n",
    "   By adding this datafile to your directory, you have made a change that is not yet reflected in our git repository. Type \"git add\" and then the name of the altered file to stage your change."
   ]
  },
  {
   "cell_type": "markdown",
   "metadata": {},
   "source": [
    "10. [git] Check your git status once again\n",
    "\n",
    "   ```bash\n",
    "   $ git status\n",
    "   ```\n",
    "\n",
    "   Now this file is listed as a \"change to be commited,\" i.e. staged.\n",
    "   Staged changes can now be *commited* to your repository history."
   ]
  },
  {
   "cell_type": "markdown",
   "metadata": {},
   "source": [
    "11. [git] Commit the file to the *git repository*:\n",
    "\n",
    "   ```bash\n",
    "   $ git commit -m \"Adding sample data file\"\n",
    "   ```\n",
    "   \n",
    "   And then with \"git commit\", update your repository with all the changes you staged, in this case just one file. "
   ]
  },
  {
   "cell_type": "markdown",
   "metadata": {},
   "source": [
    "12. [git] Look at the git logs:\n",
    "\n",
    "   ```bash\n",
    "   $ git log\n",
    "   ```\n",
    "   \n",
    "   If you type \"git log\" you will show a log of all the commits, or changes made to your repository."
   ]
  },
  {
   "cell_type": "markdown",
   "metadata": {},
   "source": [
    "13. [bash] Go back to the top-level directory:\n",
    "\n",
    "   ```bash\n",
    "   $ cd ..\n",
    "   ```"
   ]
  },
  {
   "cell_type": "markdown",
   "metadata": {},
   "source": [
    "14. [bash] Create a blank Python script:\n",
    "\n",
    "   ```bash\n",
    "   $ touch mysci.py\n",
    "   ```\n",
    "\n",
    "   And now that you've set up our workspace, create a blank Python script, called \"mysci.py\""
   ]
  },
  {
   "cell_type": "markdown",
   "metadata": {},
   "source": [
    "15. [python] Edit the `mysci.py` file using nano, vim, or your \n",
    "   favorite text editor:\n",
    "\n",
    "   ```python\n",
    "   print(\"Hello, world!\")\n",
    "   ```\n",
    "\n",
    "   Your classic first command will be to print \"Hello World\"."
   ]
  },
  {
   "cell_type": "markdown",
   "metadata": {},
   "source": [
    "16. [python] Try testing the script:\n",
    "\n",
    "   ```bash\n",
    "   $ python mysci.py\n",
    "   ```\n",
    "   \n",
    "   And test that the script works by typing \"python\" and then the name of your script. \n",
    "   \n",
    "   **Yay!** You've just created your first Python script. \n",
    "   "
   ]
  },
  {
   "cell_type": "markdown",
   "metadata": {},
   "source": [
    "17. [python] You probably won't need to run your Hello World script again, so delete the `print(\"Hello, world!\")` line and start over with something more useful - we'll read the first 4 lines from our datafile.\n",
    "\n",
    "   Change the `mysci.py` script to read:\n",
    "   \n",
    "   ```python\n",
    "   # Read the data file\n",
    "   filename = \"data/wxobs20170821.txt\"\n",
    "   datafile = open(filename, 'r')\n",
    "\n",
    "   print(datafile.readline())\n",
    "   print(datafile.readline())\n",
    "   print(datafile.readline())\n",
    "   print(datafile.readline())\n",
    "\n",
    "   datafile.close()\n",
    "   ```\n",
    "\n",
    "   And test your script again by typing:\n",
    "\n",
    "   ```bash\n",
    "   $ python mysci.py\n",
    "   ```\n",
    " \n",
    "   First create a variable for your datafile name, which is a **string** - this can be in single or double quotes.\n",
    "\n",
    "   Then create a variable associated with the opened file, here it is called `datafile`. \n",
    "   \n",
    "   The `'r'` argument in the `open` command indicates that we are opening the file for reading capabilities. Other input arguments for `open` include `'w'`, for example, if you wanted to write to the file.\n",
    "\n",
    "   The `readline` command moves through the open file, always reading the next line.\n",
    "\n",
    "   And remember to `close` your datafile.\n",
    "\n",
    "   **Comments** in Python are indicated with a hash, as you can see in the first line `# Read the data file`. Comments are ignored by the interpreter.\n",
    "\n",
    "   Testing of your script with `python mysci.py` should be \n",
    "   done every time you wish to execute the script. This will \n",
    "   no longer be specified as a unique step in between every \n",
    "   change to our script."
   ]
  },
  {
   "cell_type": "markdown",
   "metadata": {},
   "source": [
    "18. [python] Change the `mysci.py` script to read your whole data file:\n",
    "\n",
    "   ```python\n",
    "   # Read the data file\n",
    "   filename = \"data/wxobs20170821.txt\"\n",
    "   datafile = open(filename, 'r')\n",
    "   data = datafile.read()\n",
    "   datafile.close()\n",
    "\n",
    "   # DEBUG\n",
    "   print(data)\n",
    "   print('data')\n",
    "   ```\n",
    "\n",
    "   Our code is similar to the before, but now we've read the entire file. To test that this worked. We'll `print(data)`. Print statements in python require parenthesis around the  object you wish to print, here it is data. \n",
    "   \n",
    "   Try `print('data')` as well, now Python will print the string `'data'`, as it did for the hello world function, instead of the information stored in the variable `data`.\n",
    "\n",
    "   Don't forget to execute with `python mysci.py`"
   ]
  },
  {
   "cell_type": "markdown",
   "metadata": {},
   "source": [
    "19. [python] Change the `mysci.py` script to read your whole data file using a context manager `with`:\n",
    "\n",
    "   ```python\n",
    "   # Read the data file\n",
    "   filename = \"data/wxobs20170821.txt\"\n",
    "   with open(filename, 'r') as datafile:\n",
    "      data = datafile.read()\n",
    "   \n",
    "   # DEBUG\n",
    "   print(data)\n",
    "   ```\n",
    "   \n",
    "   Again this is a similar method of opening the datafile, but we now use `with open`. The `with` statement is a context manager that provides clean-up and assures that the file is automatically closed after you've read it. \n",
    "   \n",
    "   The indendation of the line `data = datafile.read()` is very important. Python is sensitive to white space and will not work if you mix spaces and tabs (Python does not know your tab width). It is best practice to use spaces as opposed to tabs (tab width is not consistent between editors).\n",
    "   \n",
    "   Combined these two lines mean: with the datafile opened, I'd like to read it.\n",
    "\n",
    "   And execute with `python mysci.py`."
   ]
  },
  {
   "cell_type": "markdown",
   "metadata": {},
   "source": [
    "20. [python] What did we just see?  What is the `data` object?  What type is `data`?  How do we find out?  \n",
    "   \n",
    "   Add the following to the `DEBUG` section of our script:\n",
    "   \n",
    "   ```python\n",
    "   print(type(data))\n",
    "   ```\n",
    "   And execute with `python mysci.py`\n",
    "\n",
    "   What did we just see?  What is the `data` object?  In the 'DEBUG' section of our script let's find out the type of our data object. Object types refer to 'float' 'integer' 'string' or other types that you can create. \n",
    "\n",
    "   Python is a dynamically typed language, which means you don't have to explicitly specify the datatype when you name a variable, Python will automatically figure it out by the nature of the data."
   ]
  },
  {
   "cell_type": "markdown",
   "metadata": {},
   "source": [
    "21. [git] Now, clean up the script by removing the `DEBUG` section, before we commit this to git."
   ]
  },
  {
   "cell_type": "markdown",
   "metadata": {},
   "source": [
    "22. [git] Let's check the status of our git repository\n",
    "\n",
    "   ```bash\n",
    "   $ git status\n",
    "   ```\n",
    "   \n",
    "   Note what files have been changed in the repository."
   ]
  },
  {
   "cell_type": "markdown",
   "metadata": {},
   "source": [
    "23. [git] Stage these changes:\n",
    "\n",
    "   ```bash\n",
    "   $ git add mysci.py\n",
    "   ```"
   ]
  },
  {
   "cell_type": "markdown",
   "metadata": {},
   "source": [
    "24. [git] Let's check the status of our git repository,again.  What's different from the last time we checked the status?\n",
    "\n",
    "   ```bash\n",
    "   $ git status\n",
    "   ```"
   ]
  },
  {
   "cell_type": "markdown",
   "metadata": {},
   "source": [
    "25. [git] Commit these changes:\n",
    "\n",
    "   ```bash\n",
    "   $ git commit -m \"Adding script file\"\n",
    "   ```\n",
    "  \n",
    "  Here a good commit message `-m` for our changes would be \"Adding script file\""
   ]
  },
  {
   "cell_type": "markdown",
   "metadata": {},
   "source": [
    "26. [git] Let's check the status of our git repository, now.  It should tell you that there are no changes made to your repository (i.e., your repository is up-to-date with the state of the code in your directory).'\n",
    "\n",
    "   ```bash\n",
    "   $ git status\n",
    "   ```"
   ]
  },
  {
   "cell_type": "markdown",
   "metadata": {},
   "source": [
    "27. [git] Look at the git logs, again:\n",
    "\n",
    "   ```bash\n",
    "   $ git log\n",
    "   ```\n",
    "   You can also print simplified logs with the `--oneline` option."
   ]
  },
  {
   "cell_type": "markdown",
   "metadata": {},
   "source": [
    "-------------\n",
    "That concludes the first lesson of this virtual tutorial. \n",
    "\n",
    "In this section you set up a workspace by creating your directory, conda environment, and git repository. You \n",
    "downloaded a .txt file and read it using the Python commands of `open()`, `readline()`, `read()`, `close()`, and `print()`, as well as the context manager `with`. You should be familiar with the `str` datatype. You also used fundamental git commands such as `git init`, `git status`, `git add`, `git commit`, and `git logs`.\n",
    "\n",
    "Please continue to [Part 1b](z230_p1b.ipynb)."
   ]
  }
 ],
 "metadata": {
  "kernelspec": {
   "display_name": "Python 3",
   "language": "python",
   "name": "python3"
  },
  "language_info": {
   "codemirror_mode": {
    "name": "ipython",
    "version": 3
   },
   "file_extension": ".py",
   "mimetype": "text/x-python",
   "name": "python",
   "nbconvert_exporter": "python",
   "pygments_lexer": "ipython3",
   "version": "3.7.1"
  }
 },
 "nbformat": 4,
 "nbformat_minor": 2
}
