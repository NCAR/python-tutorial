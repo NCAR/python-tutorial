{
 "cells": [
  {
   "cell_type": "markdown",
   "metadata": {},
   "source": [
    "# Python 0-30 for Scientists\n",
    "---------------"
   ]
  },
  {
   "cell_type": "markdown",
   "metadata": {},
   "source": [
    "## Part 1b - Creating a Data Dictionary\n",
    "--------------------------------------\n",
    "\n",
    "This is intended to pick off right where part 1a left off - you had just commited your new script file that reads in the data from file as a string.\n",
    "\n",
    "You will now manipulate your data into a more usable format - a dictionary.\n",
    "\n",
    "In doing so you will learn how to write iterative for loops and about Python data structures."
   ]
  },
  {
   "cell_type": "markdown",
   "metadata": {},
   "source": [
    "1. [python] One big string isn't very useful, so use `str.split()` to parse the data file into a data structure you can use.  \n",
    "   \n",
    "   Change the `mysci.py` script to read:\n",
    "   \n",
    "   ```python\n",
    "   # Initialize my data variable\n",
    "   data = []\n",
    "   \n",
    "   # Read and parse the data file\n",
    "   filename = \"data/wxobs20170821.txt\"\n",
    "   with open(filename, 'r') as datafile:\n",
    "   \n",
    "       # Read the first three lines (header)\n",
    "       for _ in range(3):\n",
    "           datafile.readline()\n",
    "       \n",
    "       # Read and parse the rest of the file\n",
    "       for line in datafile:\n",
    "            datum = line.split()\n",
    "            data.append(datum)\n",
    "   \n",
    "   # DEBUG\n",
    "   for datum in data:\n",
    "      print(datum)\n",
    "   ```\n",
    "\n",
    "   The first thing that is different in this script is an initialized data variable; `data = []` creates the variable `data` as an empty `list` which we will populate as we read the file. Python `lists` are a collection data type that are ordered and changeable - meaning you can call information out of the `list` by its index and you can add or delete elements to your `list`. Lists are denoted by square brackets, `[]`.\n",
    "\n",
    "   Then with the datafile open for reading capabilities, we are going to write two separate `for` loops. A `for` loop is used for iterating over a sequence (such as a `list`). It is important to note the syntax of Python `for` loops: the `:` at the end of for `for` line, the tab-indentation of all lines within the `for` loop, and perhaps the absence of an `end for` that is found in languages such as Matlab.\n",
    "\n",
    "   In your first `for` loop, loop through the dummy variable `_` in `range(3)`. `range` returns a sequence of numbers, starting at 0 and incrementing by 1 (by default), ending at the specified length. Here if you were to `print(_)` on each line of the `for` loop you would see:\n",
    "\n",
    "   0\n",
    "   \n",
    "   1\n",
    "   \n",
    "   2\n",
    "\n",
    "   Try it out if you are unsure of how this works. Here the `_` variable is a placeholder, meaning the variable is never called within the loop. \n",
    "\n",
    "   So again, in the first `for` loop, you execute the `readline` command (which you will remember moves down to the next line each time it is consecutively called) 3 times to read through the file header (which is 3 lines long). You have just written your first `for` loop! \n",
    "\n",
    "   Then in a second `for` loop, you loop through lines in the remainder of your `datafile`. On each line, `split` it along white space. The string `split()` method splits a string into a list on a specified separator, the default being white space. You could use any character you like, but other useful options are `/t ` for splitting along tabs, or `,` along commmas. \n",
    "\n",
    "   Then you `append` this split line list to the end of your `data` list. The list `append()` method adds a single item to the end of your list. After every `line` in your `for` loop iteration, the `data` list that was empty is one element longer. Now we have a list of lists for our data variable - a list of the data in each line for multiple lines.\n",
    "\n",
    "   When you print each datum in data, you'll see that each datum is a list of string values.\n",
    "\n",
    "   We just covered a lot of Python nuances in a very little bit a code! So please reach out if you are confused at this step."
   ]
  },
  {
   "cell_type": "markdown",
   "metadata": {},
   "source": [
    "2. [python] Now, to practice list indexing, get the first, 10th, and last row in `data`.  \n",
    "   \n",
    "   Change the `DEBUG` section of our `mysci.py` script to:\n",
    "   \n",
    "   ```python\n",
    "   # DEBUG\n",
    "   print(data[0])\n",
    "   print(data[9])\n",
    "   print(data[-1])\n",
    "   ```\n",
    "\n",
    "   Index your `list` by adding the number of your index in square brackets, `[]`, after the name of the `list`. Python is 0-indexed so `data[0]` refers to the first index and `[-1]` refers to the last index. "
   ]
  },
  {
   "cell_type": "markdown",
   "metadata": {},
   "source": [
    "3. [python] Now, to practice slice indexing,\n",
    "   get the first 10 rows in `data`.  \n",
    "   Change the `DEBUG` section of our `mysci.py` script to:\n",
    "   \n",
    "   ```python\n",
    "   # DEBUG\n",
    "   for datum in data[0:10]:\n",
    "       print(datum)\n",
    "   ```\n",
    "\n",
    "   Using a colon, `:`, between two index integers a and b, you get all indexes between a and b. See what happens when you print `data[:10]`, `data[0:10:2]`, and `data[slice(0,10,2)]`. What's the difference?"
   ]
  },
  {
   "cell_type": "markdown",
   "metadata": {},
   "source": [
    "4. [python] Now, to practice nested indexing,get the 5th, first 5, and every other *column* of rows `8` in `data`.\n",
    "   \n",
    "   Change the `DEBUG` section of the `mysci.py` script to:\n",
    "   \n",
    "   ```python\n",
    "   # DEBUG\n",
    "   print(data[8][4])\n",
    "   print(data[8][:5])\n",
    "   print(data[8][::2])\n",
    "   ```\n",
    "\n",
    "   In **nested list indexing**, the first index determines the row, and the second determines the element from that row. Also try printing `data[5:8][4]`, why doesn't this work?"
   ]
  },
  {
   "cell_type": "markdown",
   "metadata": {},
   "source": [
    "5. [git] Clean up the file (remove `DEBUG` section), stage the changes, and commit. \n",
    "\n",
    "    (i.e., `git add mysci.py` and `git commit -m \"Parsing file\"`)"
   ]
  },
  {
   "cell_type": "markdown",
   "metadata": {},
   "source": [
    "6. [python] Can you remember which column is which?  Is time the first column or the second?  Which column is the temperature?\n",
    "   \n",
    "   Each column is a time-series of data.  We would ideally like each time-series easily accessible, which is *not* the case when `data` is row-column ordered (like it currently is). (Remember what happens when you try to do something like `data[:][4]`!)\n",
    "   \n",
    "   Let's get our data into a more convenient named-column format.\n",
    "   \n",
    "   Change `mysci.py` to the following:\n",
    "\n",
    "   ```python\n",
    "   # Initialize my data variable\n",
    "   data = {'date': [],\n",
    "           'time': [],\n",
    "           'tempout': []}\n",
    "   \n",
    "   # Read and parse the data file\n",
    "   filename = \"data/wxobs20170821.txt\"\n",
    "   with open(filename, 'r') as datafile:\n",
    "   \n",
    "       # Read the first three lines (header)\n",
    "       for _ in range(3):\n",
    "           datafile.readline()\n",
    "       \n",
    "       # Read and parse the rest of the file\n",
    "       for line in datafile:\n",
    "           split_line = line.split()\n",
    "           data['date'].append(split_line[0])\n",
    "           data['time'].append(split_line[1])\n",
    "           data['tempout'].append(split_line[2])\n",
    "   \n",
    "   # DEBUG\n",
    "   print(data['time'])\n",
    "   ```\n",
    "\n",
    "   First we'll initialize a `dict`, indicated by the curly brackets, `{}`. **Dictionaries**, like `list`s, are changeable, but they are unordered. They have `keys`, rather than positions, to point to their elements. Here you have created 3 elements of your dictionary, all currently empty `lists`, and specified by the keys `date`, `time`, and `tempout`. Keys act similarly to indexes: to pull out the `tempout` element from `data` you would type `data['tempout']`.\n",
    "\n",
    "   Grab date (the first column of each line), time (the second column of each line), and temperature data (the third column), from each line and `append` it to the list associated with each of these data variables."
   ]
  },
  {
   "cell_type": "markdown",
   "metadata": {},
   "source": [
    "7. [git] Clean up (remove `DEBUG` section), stage, and commit(`git commit -m \"Parsing select time-series\"`)"
   ]
  },
  {
   "cell_type": "markdown",
   "metadata": {},
   "source": [
    "8. [python] Now it's easy to get the time-series informationfor each column that we are interested in grabbing, and we can get each column by name.  However, everything read fromthe text file is a `str`. What if we want to do math on this data, then we need it to be a different data type!\n",
    "   \n",
    "   So, let's convert the `tempout` time-series to be a `float` by changing the line:\n",
    "   \n",
    "   ```python\n",
    "           data['tempout'].append(split_line[2])   \n",
    "   ```\n",
    "   \n",
    "   to:\n",
    "   \n",
    "   ```python\n",
    "           data['tempout'].append(float(split_line[2]))\n",
    "   ```\n",
    "\n",
    "   The `float` datatype refers to floating point real values - the datatype of any numbers with values after a decimal point. You could also change the datatype to `int`, which will round the values down to the closest full integer."
   ]
  },
  {
   "cell_type": "markdown",
   "metadata": {},
   "source": [
    "9. [python] Add a `DEBUG` section at the end and see what`data['tempout']` now looks like.  \n",
    "\n",
    "    Do you see a difference?It should now be a `list` of `float`s."
   ]
  },
  {
   "cell_type": "markdown",
   "metadata": {},
   "source": [
    "10. [git] Clean up (remove `DEBUG` section), stage, and commit (`git commit -m \"Converting tempout to floats\"`)"
   ]
  },
  {
   "cell_type": "markdown",
   "metadata": {},
   "source": [
    "11. [python] This seems great, so far!  But what if you want to read more columns to our data later?  You would have to change the initialization of the `data` variable (at the top of `mysci.py`) *and* have to add the appropriate line in the \"read and parse\" section.  Essentially, that means you need to maintain 2 parts of the code and make sure that both remain consistent with each other.\n",
    "   \n",
    "   This is generally not good practice.  Ideally, you want tobe able to change only 1 part of the code and know that\n",
    "the rest of the code will remain consistent.  So, let's fix this.\n",
    "   \n",
    "   Change `mysci.py` to:\n",
    "   \n",
    "   ```python\n",
    "   # Column names and column indices to read\n",
    "   columns = {'date': 0, 'time': 1, 'tempout': 2}\n",
    "\n",
    "   # Data types for each column (only if non-string)\n",
    "   types = {'tempout': float}\n",
    "\n",
    "   # Initialize my data variable\n",
    "   data = {}\n",
    "   for column in columns:\n",
    "       data[column] = []\n",
    "\n",
    "   # Read and parse the data file\n",
    "   filename = \"data/wxobs20170821.txt\"\n",
    "   with open(filename, 'r') as datafile:\n",
    "\n",
    "       # Read the first three lines (header)\n",
    "       for _ in range(3):\n",
    "           datafile.readline()\n",
    "\n",
    "       # Read and parse the rest of the file\n",
    "       for line in datafile:\n",
    "           split_line = line.split()\n",
    "           for column in columns:\n",
    "               i = columns[column]\n",
    "               t = types.get(column, str)\n",
    "               value = t(split_line[i])\n",
    "               data[column].append(value)\n",
    "\n",
    "   # DEBUG\n",
    "   print(data['tempout'])\n",
    "   ```\n",
    "   You have now created a `columns` dictionary that points each data variable to its column-index. And a `types` dictionary, that indicates what type to convert the data when necessary. When you want new variables pulled out of the datafile, change these two variables.\n",
    "\n",
    "   Initializing the `data` dictionary now includes a `for` loop, where for each variable specified in `columns` that key is initialized pointing to an empty list. This is the first time you have looped over a `dict` and added key-value pairs to a `dict` via assignment.\n",
    "\n",
    "   When reading and parsing the file, you created your first nested `for` loop. For every line of the datafile, split that line - and then for every desired variable in the `columns` dictionary (`date`, `time`, `tempout`): grab the datum from the current split line with the specified index (`0`, `1`, `2`), use the `dict.get()` method to find the desired datatype if specired (avoiding key-not-found errors and defaulting to `str` if unspecified), convert the datum to the desired datatype, and append the datum to the `list` associated with each `column` key within the `data` dictionary."
   ]
  },
  {
   "cell_type": "markdown",
   "metadata": {},
   "source": [
    "12. [git] Clean up (remove `DEBUG` section), stage, and commit (`git commit -m \"Refactoring data parsing code\"`)"
   ]
  },
  {
   "cell_type": "markdown",
   "metadata": {},
   "source": [
    "-------------\n",
    "\n",
    "That concludes the second lesson of this virtual tutorial.\n",
    "\n",
    "In this section you saved the variables of date, time, and tempout in a data dictionary.\n",
    "\n",
    "You should now be familiar with the data structures lists (as well as list indexing, nested lists, and the command `list.append()`), dictionaries (their keys and the command `dict.get()`), and ranges. You also learned to write for-loops, about the `float` datatype, and using the Python commands `str.split`.\n",
    "\n",
    "Please continue to [Part 1c](z230_p1c.ipynb)."
   ]
  }
 ],
 "metadata": {
  "kernelspec": {
   "display_name": "Python 3",
   "language": "python",
   "name": "python3"
  },
  "language_info": {
   "codemirror_mode": {
    "name": "ipython",
    "version": 3
   },
   "file_extension": ".py",
   "mimetype": "text/x-python",
   "name": "python",
   "nbconvert_exporter": "python",
   "pygments_lexer": "ipython3",
   "version": "3.7.1"
  }
 },
 "nbformat": 4,
 "nbformat_minor": 2
}
