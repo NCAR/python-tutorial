{
 "cells": [
  {
   "cell_type": "markdown",
   "metadata": {},
   "source": [
    "# Python 0-30 for Scientists\n",
    "----------------"
   ]
  },
  {
   "cell_type": "markdown",
   "metadata": {},
   "source": [
    "## Part 1c - Writing Function to Compute Wind Chill Index\n",
    "--------------------------------------\n",
    "\n",
    "This is intended to pick off right where part 1b left off- you had just commited your new script that reads the file, saving the variables of date, time, and tempout in a data dictionary.\n",
    "\n",
    "In this section you will compute wind chill index by writing your first function and learning about basic math operators."
   ]
  },
  {
   "cell_type": "markdown",
   "metadata": {},
   "source": [
    "1. [python] Okay, now that you've read the data in a way thatis easy to modify later, it is time to actually do something with the data.\n",
    "   \n",
    "   Compute the *wind chill* factor, which is the cooleing effect of the wind. As wind speed increases the rate at which a body loses heat increases. The formula for this is:\n",
    "   \n",
    "   \n",
    "   $$ WCI = a + (b * t) - (c * v^2) + (d * t * v^2)$$\n",
    "  \n",
    "\n",
    "   Where *WCI* refers to the Wind Chill in degrees F, *t* is temperature in degrees F, *v* is wind speed in mph, and the other variables are as follows: *a* = 35.74, *b* = 0.6215, *c* = 35.75, and *d* = 0.4275. Wind Chill Index is only defined for temperatures within the range -45 to +45 degrees F. \n",
    "   \n",
    "   You've read the temperature data into the `tempout` variable, but to do this calculationyou also needto read the `windspeed` variable from column `7`.  \n",
    "   \n",
    "   Modify the `columns` variable to read:\n",
    "   \n",
    "   ```python\n",
    "   columns = {'date': 0, 'time': 1, 'tempout': 2, 'windspeed': 7}\n",
    "   ```\n",
    "   \n",
    "   and modify the `types` variable to be:\n",
    "   \n",
    "   ```python\n",
    "   types = {'tempout': float, 'windspeed': float}\n",
    "   ```"
   ]
  },
  {
   "cell_type": "markdown",
   "metadata": {},
   "source": [
    "2. [git] Great!  Save this in your git repo.  Stage and commit (`git commit -m \"Reading windspeed as well\"`)."
   ]
  },
  {
   "cell_type": "markdown",
   "metadata": {},
   "source": [
    "3. [python] Now, let's write our first function to computethe wind chill factor.  We'll add this function to the bottom of the file.\n",
    "   \n",
    "   ```python\n",
    "   # Compute the wind chill temperature\n",
    "   def compute_windchill(temp, windspeed):\n",
    "      a = 35.74\n",
    "      b = 0.6215\n",
    "      c = 35.75\n",
    "      d = 0.4275\n",
    "\n",
    "      v16 = windspeed ** 0.16\n",
    "      wci = a + (b * temp) - (c * v16) + (d * temp * v16)\n",
    "      return wci\n",
    "   ```\n",
    "   \n",
    "   To indicate a function in python you type `def` for define, the name of your function, and then in parenthesis the input arguments of that function, followed by a colon. On the next lines tab-indented is the code of your function, and your return value.\n",
    "\n",
    "   Here is your first introduction **math operators** in Python. Addition, subtraction, and multiplication look much like you'd expect. A double astericks, `**`, indicates an exponential. A backslash, `/`, is for division, and a double backslash, `//`, is for integer division.\n",
    "   \n",
    "   And then let's compute a new list with `windchill` data atthe bottom of `mysci.py`:\n",
    "   \n",
    "   ```python\n",
    "   # Let's actually compute the wind chill factor\n",
    "   windchill = []\n",
    "   for temp, windspeed in zip(data['tempout'], data['windspeed']):\n",
    "       windchill.append(compute_windchill(temp, windspeed))\n",
    "   ```\n",
    "   \n",
    "   Now we'll call our function. Initialize a list for wind chill with empty square brackets, `[]`. And in a `for` loop, loop through our temperature and wind speed data, applying the function to each `tuple` data pair. `tuple`s are ordered like `list`s, but they are indicated by parenthesis, `()`, instead of square brackets and cannot be changed or appended. `tuple`s are generally faster than `list`s.\n",
    "   \n",
    "   We use the `zip` function in Python to automatically unravel the `tuple`s. Take a look at `zip([1,2], [3,4,5])`.  What is the result?\n",
    "\n",
    "   And finally, add a `DEBUG` section to see theresults:\n",
    "   \n",
    "   ```python\n",
    "   # DEBUG\n",
    "   print(windchill)\n",
    "   ```"
   ]
  },
  {
   "cell_type": "markdown",
   "metadata": {},
   "source": [
    "4. [git] Clean up, stage, and commit (`git commit -m \"Compute wind chill factor\"`)"
   ]
  },
  {
   "cell_type": "markdown",
   "metadata": {},
   "source": [
    "5. [python] Now, the wind chill factor is actually in the data file, so we can read it from the file and compare that value to our computed values.  To do this, we need to read the `windchill` from column 12 as a `float`:\n",
    "   \n",
    "   Edit the columns and types dictionaries:\n",
    "\n",
    "   ```python\n",
    "   columns = {'date': 0, 'time': 1, 'tempout': 2, 'windspeed': 7,\n",
    "              'windchill': 12}\n",
    "   ```\n",
    "   \n",
    "   **NOTE:** the line continuation indentation\n",
    "   \n",
    "   and\n",
    "   \n",
    "   ```python\n",
    "   types = {'tempout': float, 'windspeed': float, 'windchill': float}\n",
    "   ```\n",
    "   \n",
    "   Then, in a `DEBUG` section at the end of your script to compare the two different values (from `data` and computed by our function):\n",
    "   \n",
    "   ```python\n",
    "   # DEBUG\n",
    "   for wc_data, wc_comp in zip(data['windchill'], windchill):\n",
    "       print(f'{wc_data:.5f}   {wc_comp:.5f}   {wc_data - wc_comp:.5f}')\n",
    "   ```\n",
    "   \n",
    "   Using `f-strings` with `float` formatting you can determine the precision with which to print the values to. `.5f` means you want 5 places after the decimal point. \n",
    "   \n",
    "   Test the results.  What do you see?  Our computation isn't very good is it?"
   ]
  },
  {
   "cell_type": "markdown",
   "metadata": {},
   "source": [
    "6. [git] Clean up, stage, and commit (`git commit -m \"Compare wind chill factors\"`)"
   ]
  },
  {
   "cell_type": "markdown",
   "metadata": {},
   "source": [
    "7. [python] Now, format the output so that it's easy to understand and rename this script to something indicative of what it actually does.\n",
    "   \n",
    "   To the end of the file, add:\n",
    "   \n",
    "   ```python\n",
    "   # Output comparison of data\n",
    "   print('                ORIGINAL  COMPUTED')\n",
    "   print(' DATE    TIME  WINDCHILL WINDCHILL DIFFERENCE')\n",
    "   print('------- ------ --------- --------- ----------')\n",
    "   for date, time, wc_orig, wc_comp in zip(data['date'], data['time'], data['windchill'], windchill):\n",
    "       print(f'{date} {time:>6} {wc_orig:9.6f} {wc_comp:9.6f} {wc_orig-wc_comp:10.6f}')\n",
    "   ```\n",
    "   \n",
    "   Here you used f-string formatting with more `f-string` formatting options. `>6` indicates that you'd like the characters of the string to be right-justified and to take up 6 spaces. \n",
    "   \n",
    "   `9f` specifies that you want the value to fill 9 spaces, so `9.6f` indicates you'd like the value to fill 9 spaces with 6 of them being after the decimal point. Same concept for `10.6f`\n",
    "   \n",
    "   You now have your first complete Python script! "
   ]
  },
  {
   "cell_type": "markdown",
   "metadata": {},
   "source": [
    "8. [git] DON'T CLEAN UP!  Just stage and commit(`git commit -m \"Output formatting comparison data\"`)"
   ]
  },
  {
   "cell_type": "markdown",
   "metadata": {},
   "source": [
    "9. [git] Let's rename this script to something meaningful and indicative of the computation inside.\n",
    "\n",
    "   ```bash\n",
    "   $ git mv mysci.py windchillcomp.py\n",
    "   $ git commit -m \"Renaming first script\"\n",
    "   ```"
   ]
  },
  {
   "cell_type": "markdown",
   "metadata": {},
   "source": [
    "10. [git] Let's push to GitHub!\n",
    "   \n",
    "First you have to create a remote repository.\n",
    "   \n",
    "1. Go to https://github.com/ and create or login to your account.\n",
    "\n",
    "\n",
    "2. At the top right of any Github page, there is a '+' icon. Click that, then select 'New Repository'.\n",
    "\n",
    "\n",
    "3. Name your repository, \"NCAR_python_tutorial_2020\". \n",
    "   \n",
    "   It is best practice for your local project and GitHub repository to share a name.\n",
    "\n",
    "\n",
    "4. And click \"Create Repository\" \n",
    "\n",
    "\n",
    "5. Copy the link to your GitHub repository. \n",
    "   \n",
    "   Typically this will have the form: Copy the link in the input right beneath the title, it should look something like this: \"https://github.com/<user_name>/NCAR_python_tutorial_2020.git\"\n",
    "\n",
    "   Then to set your remote repository, in your project terminal type:\n",
    "\n",
    "   ```bash\n",
    "   $ git remote add origin <remote repository URL>\n",
    "   ```\n",
    "\n",
    "   And verify your remote repository:\n",
    "\n",
    "   ```bash\n",
    "   $ git remote -v\n",
    "   ```\n",
    "   \n",
    "   And finally push your project to GitHub:\n",
    "\n",
    "   ```bash\n",
    "   $ git push origin master\n",
    "   ```\n",
    "\n",
    "   Think of GitHub as online storage for versions of your project, much like hosting your code in a Google Drive, but with better features specific to coding. A lot of GitHub's features show their usefulness when you are working collaboratively, sharing your code with other scientists, or if you wanted to display and easily visualize changes in your code between commits. \n",
    "   "
   ]
  },
  {
   "cell_type": "markdown",
   "metadata": {},
   "source": [
    "----------------\n",
    "\n",
    "That concludes the part 1 of this virtual tutorial where you learned to write your first Python script.\n",
    "\n",
    "In this section you calculated wind chill index by writing and calling your first function. You also learned about Python math operators, the `zip()` command, `tuple` datastructure, f-string formatting, and how to push your repository to GitHub.\n",
    "\n",
    "When you are ready continue to part 2a."
   ]
  }
 ],
 "metadata": {
  "kernelspec": {
   "display_name": "Python 3",
   "language": "python",
   "name": "python3"
  },
  "language_info": {
   "codemirror_mode": {
    "name": "ipython",
    "version": 3
   },
   "file_extension": ".py",
   "mimetype": "text/x-python",
   "name": "python",
   "nbconvert_exporter": "python",
   "pygments_lexer": "ipython3",
   "version": "3.7.1"
  }
 },
 "nbformat": 4,
 "nbformat_minor": 2
}
