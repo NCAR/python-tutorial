{
 "cells": [
  {
   "cell_type": "markdown",
   "metadata": {},
   "source": [
    "## [Getting Started](requirements.ipynb)"
   ]
  },
  {
   "cell_type": "markdown",
   "metadata": {},
   "source": [
    "## Zero to Thirty Beginner \n",
    "\n",
    "### 1. First Python Script -- part_1\n",
    "\n",
    "#### 1a. [Reading in a .txt File](part_1/z230_p1a.ipynb)\n",
    "- Workspace Setup:\n",
    "    - Creating a directory\n",
    "    - Creating a conda environment\n",
    "    - Creating a git repository\n",
    "    - Downloading a file\n",
    "\n",
    "- Python Concepts:\n",
    "    - the `str` datatype\n",
    "    - `print()`\n",
    "    - `open()`\n",
    "    - `readline()`\n",
    "    - `read()`\n",
    "    - `close()`\n",
    "    - the `with` context manager\n",
    "\n",
    "- Git Fundamentals\n",
    "    - `git status`\n",
    "    - `git add`\n",
    "    - `git commit`\n",
    "    - `git logs`\n",
    "\n",
    "#### 1b. [Creating a Data Dictionary](part_1/z230_p1b.ipynb)\n",
    "-  Python Data Structures\n",
    "    - `list` \n",
    "        - `list.append()`\n",
    "        - `list` indexing\n",
    "        - nested `list`s\n",
    "    - `range`\n",
    "    - `dict` \n",
    "        - key/value pairs\n",
    "        - `dict.get()`\n",
    "- Other Python Concepts\n",
    "    - initializing data variables\n",
    "    - `str.split()`\n",
    "    - the `float` datatype.\n",
    "    \n",
    "#### 1c. [Writing a Function to Compute Wind Chill Index](part_1/z230_p1c.ipynb)\n",
    "- Python Concepts:\n",
    "    - functions\n",
    "    - math operators\n",
    "    - `zip()`\n",
    "    - the `tuple` data structure\n",
    "    - f-string formatting\n",
    "- Git:\n",
    "    - pushing a local repository to GitHub"
   ]
  }
 ],
 "metadata": {
  "kernelspec": {
   "display_name": "Python 3",
   "env": {},
   "interrupt_mode": "signal",
   "language": "python",
   "metadata": {},
   "name": "python3"
  },
  "nikola": {
   "category": "",
   "date": "2020-04-03 15:35:49 UTC-06:00",
   "description": "",
   "link": "",
   "slug": "index",
   "tags": "",
   "title": "NCAR Python Tutorial",
   "type": "text"
  }
 },
 "nbformat": 4,
 "nbformat_minor": 2
}
