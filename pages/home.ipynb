{
 "cells": [
  {
   "cell_type": "markdown",
   "metadata": {},
   "source": [
    "Write your page here."
   ]
  }
 ],
 "metadata": {
  "kernelspec": {
   "display_name": "Python 3",
   "env": {},
   "interrupt_mode": "signal",
   "language": "python",
   "metadata": {},
   "name": "python3"
  },
  "nikola": {
   "category": "",
   "date": "2020-04-03 15:35:49 UTC-06:00",
   "description": "",
   "link": "",
   "slug": "home",
   "tags": "",
   "title": "home",
   "type": "text"
  }
 },
 "nbformat": 4,
 "nbformat_minor": 2
}
