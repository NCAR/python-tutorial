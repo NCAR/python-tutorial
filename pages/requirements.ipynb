{
 "cells": [
  {
   "cell_type": "markdown",
   "metadata": {},
   "source": [
    "# Requirements & Installation\n",
    "--------------------------"
   ]
  },
  {
   "cell_type": "markdown",
   "metadata": {},
   "source": [
    "If you don't have conda installed at all, please install it. \n",
    "\n",
    "Follow [these instructions](https://docs.conda.io/projects/conda/en/latest/user-guide/install/index.html)."
   ]
  },
  {
   "cell_type": "markdown",
   "metadata": {},
   "source": [
    "1. [bash] First, check that you have conda or miniconda installed on your OS. \n",
    "\n",
    "    Check your conda version:\n",
    "\n",
    "   ```bash\n",
    "   $ conda --version\n",
    "   ```\n",
    "   At the time of writing this, the latest version of conda is 4.8. If you have an old version of conda installed, update it."
   ]
  },
  {
   "cell_type": "markdown",
   "metadata": {},
   "source": [
    "2. [bash] If necessary, update:\n",
    "\n",
    "   ```bash\n",
    "   $ conda update\n",
    "   ```\n",
    "\n",
    "   ***NOTE** If you have a REALLY old version of conda it might be easier to delete it and then reinstall it. But before doing this you have to check your env-list to see if there are any environments you created and want to save."
   ]
  },
  {
   "cell_type": "markdown",
   "metadata": {},
   "source": [
    "3. [bash] Check your conda version again.\n",
    "\n",
    "    ```bash\n",
    "   $ conda --version\n",
    "   ```"
   ]
  },
  {
   "cell_type": "markdown",
   "metadata": {},
   "source": [
    "4. Install git\n",
    "\n",
    "   Git is a program that tracks changes made to files. This makes it easy to maintain access to multiple versions of your code as you improve it, and revert your code back to a previous version if you've made any mistakes.\n",
    "\n",
    "   Follow instructions [here](https://git-scm.com/book/en/v2/Getting-Started-Installing-Git)."
   ]
  }
 ],
 "metadata": {
  "kernelspec": {
   "display_name": "Python 3",
   "language": "python",
   "name": "python3"
  },
  "language_info": {
   "codemirror_mode": {
    "name": "ipython",
    "version": 3
   },
   "file_extension": ".py",
   "mimetype": "text/x-python",
   "name": "python",
   "nbconvert_exporter": "python",
   "pygments_lexer": "ipython3",
   "version": "3.7.1"
  }
 },
 "nbformat": 4,
 "nbformat_minor": 2
}
